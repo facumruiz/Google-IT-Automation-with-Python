{
 "cells": [
  {
   "cell_type": "markdown",
   "id": "f7b2bc00",
   "metadata": {},
   "source": [
    "# Week 1 - Part 3\n",
    "\n",
    "## Madule 1 Graded Assesment\n",
    "\n",
    "- Total points: 10\n",
    "- Grade: 100%"
   ]
  },
  {
   "cell_type": "markdown",
   "id": "ff5bd5aa",
   "metadata": {},
   "source": [
    "### Question 1\n",
    "\n",
    "What is a computer program?\n",
    "\n",
    "- [ ] A file that gets printed by the Python interpreter.\n",
    "- [ ] The syntax and semantics of Python.\n",
    "- [ ] The overview of what the computer will have to do to solve an automation problem.\n",
    "- [x] A step-by-step recipe of what needs to be done to complete a task that gets executed by the computer.\n",
    "\n",
    "<font color='green'>Correct: A step-by-step recipe of what needs to be done to complete a task that gets executed by the computer.</font>"
   ]
  },
  {
   "cell_type": "markdown",
   "id": "6abc4a2b",
   "metadata": {},
   "source": [
    "### Question 2\n",
    "\n",
    "What’s automation?\n",
    "\n",
    "- [ ] The inputs and outputs of a program.\n",
    "- [x] The process of replacing a manual step with one that happens automatically.\n",
    "- [ ] The checkout processes at a grocery store.\n",
    "- [ ] The process of getting a haircut.\n",
    "\n",
    "<font color='green'>Correct: You got it! By replacing a manual step with an automatic one we create automation that helps us reduce unnecessary manual work.</font>"
   ]
  },
  {
   "cell_type": "markdown",
   "id": "ed113930",
   "metadata": {},
   "source": [
    "### Question 3\n",
    "\n",
    "Which of the following tasks are good candidates for automation? Check all that apply.\n",
    "\n",
    "- [ ] Writing a computer program.\n",
    "- [x] Creating a report of how much each sales person has sold in the last month.\n",
    "\n",
    "<font color='green'>Correct: You nailed it! Creating reports based on data are a great example of things that can be automated.</font>\n",
    "\n",
    "- [x] Setting the home directory and access permissions for new employees joining your company.\n",
    "\n",
    "<font color='green'>Correct: Spot on! The process of setting up the account for a new employee is usually repetitive and most of it can be automated.</font>\n",
    "\n",
    "- [ ] Designing the new webpage for your company.\n",
    "- [ ] Taking pictures of friends and family at a wedding.\n",
    "- [x] Populating your company's e-commerce site with the latest products in the catalog.\n",
    "\n",
    "<font color='green'>Correct: Nice job! Automatically populating a website based on data is a great example of a task that can be automated.</font>\n",
    "\n"
   ]
  },
  {
   "cell_type": "markdown",
   "id": "dad8d081",
   "metadata": {},
   "source": [
    "### Question 4\n",
    "\n",
    "What are some characteristics of the Python programming language? Check all that apply.\n",
    "\n",
    "- [x] Python programs are easy to write and understand.\n",
    "\n",
    "<font color='green'>Correct: Right on! Because the syntax used by Python is similar to the one used by the English language, Python programs are easy to write and understand.</font>\n",
    "\n",
    "- [x] The Python interpreter reads our code and transforms it into computer instructions.\n",
    "\n",
    "<font color='green'>Correct: You nailed it! We write our code using Python's syntax and semantics, and the interpreter transforms that into instructions that our computer executes.</font>\n",
    "\n",
    "- [ ] It's an outdated language that's barely in use anymore.\n",
    "- [x] We can practice Python using web interpreters or codepads as well as executing it locally. \n",
    "\n",
    "\n",
    "<font color='green'>Correct: Awesome! We can practice writing Python code with many different tools available to us, both online and offline.</font>"
   ]
  },
  {
   "cell_type": "markdown",
   "id": "b4cb8a6c",
   "metadata": {},
   "source": [
    "### Question 5\n",
    "\n",
    "How does Python compare to other programming languages?\n",
    "\n",
    "- [ ] Python is the only programming language that is worth learning.\n",
    "- [x] Each programming language has its advantages and disadvantages.\n",
    "- [ ] It's always better to use an OS specific language like Bash or Powershell than using a generic language like Python.\n",
    "- [ ] Programming languages are so different that learning a second one is harder than learning the first one.\n",
    "\n",
    "<font color='green'>Correct: Woohoo! Each language has its pros and cons. The best language to choose will depend on the problem you are trying to solve.</font>"
   ]
  },
  {
   "cell_type": "markdown",
   "id": "5539ae50",
   "metadata": {},
   "source": [
    "### Question 6\n",
    "\n",
    "Write a Python script that outputs \"Automating with Python is fun!\" to the screen."
   ]
  },
  {
   "cell_type": "code",
   "execution_count": 3,
   "id": "a42114bd",
   "metadata": {},
   "outputs": [
    {
     "name": "stdout",
     "output_type": "stream",
     "text": [
      "Automating with Python is fun!\n"
     ]
    }
   ],
   "source": [
    "print(\"Automating with Python is fun!\")"
   ]
  },
  {
   "cell_type": "markdown",
   "id": "5eb7318a",
   "metadata": {},
   "source": [
    "<font color='green'>Correct: Great work! You're getting the hang of it!</font>"
   ]
  },
  {
   "cell_type": "markdown",
   "id": "2c84218b",
   "metadata": {},
   "source": [
    "### Question 7\n",
    "\n",
    "Fill in the blanks so that the code prints \"Yellow is the color of sunshine\"."
   ]
  },
  {
   "cell_type": "code",
   "execution_count": 4,
   "id": "4518f241",
   "metadata": {},
   "outputs": [
    {
     "name": "stdout",
     "output_type": "stream",
     "text": [
      "Yellow is the color of sunshine\n"
     ]
    }
   ],
   "source": [
    "color = 'Yellow'\n",
    "thing = 'sunshine'\n",
    "print(color + \" is the color of \" + thing)"
   ]
  },
  {
   "cell_type": "markdown",
   "id": "bae84f43",
   "metadata": {},
   "source": [
    "<font color='green'>Correct: Nice job! By using variables we're getting Python to do the work for us.</font>"
   ]
  },
  {
   "cell_type": "markdown",
   "id": "498ff6b3",
   "metadata": {},
   "source": [
    "### Question 8\n",
    "\n",
    "Keeping in mind there are 86400 seconds per day, write a program that calculates how many seconds there are in a week, if a week is 7 days.  Print the result on the screen.\n",
    "\n",
    "Note: Your result should be in the format of just a number, not a sentence."
   ]
  },
  {
   "cell_type": "code",
   "execution_count": 5,
   "id": "c63c6cbd",
   "metadata": {},
   "outputs": [
    {
     "name": "stdout",
     "output_type": "stream",
     "text": [
      "604800\n"
     ]
    }
   ],
   "source": [
    "days = 7\n",
    "secDay = 86400\n",
    "\n",
    "sec7Days = days * secDay\n",
    "\n",
    "print(sec7Days)"
   ]
  },
  {
   "cell_type": "markdown",
   "id": "74c74f4f",
   "metadata": {},
   "source": [
    "<font color='green'>Correct: Well done! You've used Python to calculate the number of\n",
    "seconds in a week.</font>"
   ]
  },
  {
   "cell_type": "markdown",
   "id": "d88436ba",
   "metadata": {},
   "source": [
    "### Question 9\n",
    "\n",
    "Use Python to calculate how many different passwords can be formed with 6 lower case English letters.  For a 1 letter password, there would be 26 possibilities.  For a 2 letter password, each letter is independent of the other, so there would be 26 times 26 possibilities.  Using this information, print the amount of possible passwords that can be formed with 6 letters."
   ]
  },
  {
   "cell_type": "code",
   "execution_count": 6,
   "id": "3055cd3f",
   "metadata": {},
   "outputs": [
    {
     "name": "stdout",
     "output_type": "stream",
     "text": [
      "308915776\n"
     ]
    }
   ],
   "source": [
    "p = 26\n",
    "total = p ** 6\n",
    "print(total)"
   ]
  },
  {
   "cell_type": "markdown",
   "id": "a1315ce7",
   "metadata": {},
   "source": [
    "<font color='green'>Correct: Awesome job!  Notice how Python can make complicated\n",
    "calculations so that we don't have to.</font>"
   ]
  },
  {
   "cell_type": "markdown",
   "id": "7f430167",
   "metadata": {},
   "source": [
    "### Question 10\n",
    "\n",
    "Most hard drives are divided into sectors of 512 bytes each.  Our disk has a size of 16 GB. Fill in the blank to calculate how many sectors the disk has.\n",
    "\n",
    "Note: Your result should be in the format of just a number, not a sentence."
   ]
  },
  {
   "cell_type": "code",
   "execution_count": 7,
   "id": "458b358d",
   "metadata": {},
   "outputs": [
    {
     "name": "stdout",
     "output_type": "stream",
     "text": [
      "33554432.0\n"
     ]
    }
   ],
   "source": [
    "disk_size = 16*1024*1024*1024\n",
    "sector_size = 512\n",
    "sector_amount = (((16*1024*1024*1024)/512))\n",
    "\n",
    "print(sector_amount)"
   ]
  },
  {
   "cell_type": "markdown",
   "id": "c915d0ed",
   "metadata": {},
   "source": [
    "<font color='green'>Correct: You nailed it! Yet another calculation that we don't need to\n",
    "do ourselves!</font>"
   ]
  }
 ],
 "metadata": {
  "kernelspec": {
   "display_name": "Python 3 (ipykernel)",
   "language": "python",
   "name": "python3"
  },
  "language_info": {
   "codemirror_mode": {
    "name": "ipython",
    "version": 3
   },
   "file_extension": ".py",
   "mimetype": "text/x-python",
   "name": "python",
   "nbconvert_exporter": "python",
   "pygments_lexer": "ipython3",
   "version": "3.9.6"
  }
 },
 "nbformat": 4,
 "nbformat_minor": 5
}
