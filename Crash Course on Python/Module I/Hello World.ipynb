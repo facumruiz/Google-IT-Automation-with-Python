{
 "cells": [
  {
   "cell_type": "markdown",
   "id": "302c15d3",
   "metadata": {},
   "source": [
    "# Week 1 - Part 2\n",
    "\n",
    "## Practice Quiz: Hello World\n",
    "\n",
    "- Total points: 5\n",
    "- Grade: 100%"
   ]
  },
  {
   "cell_type": "markdown",
   "id": "a929fdb3",
   "metadata": {},
   "source": [
    "### Question 1\n",
    "\n",
    "What are functions in Python?\n",
    "\n",
    "- [ ] Functions let us use Python as a calculator.\n",
    "- [x] Functions are pieces of code that perform a unit of work.\n",
    "- [ ] Functions are only used to print messages to the screen.\n",
    "- [ ] Functions are how we tell if our program is functioning or not.\n",
    "\n",
    "<font color='green'>Correct: Right on! Python functions encapsulate a certain action, like outputting a message to the screen in the case of print().</font>"
   ]
  },
  {
   "cell_type": "markdown",
   "id": "177f8d53",
   "metadata": {},
   "source": [
    "### Question 2\n",
    "\n",
    "What are keywords in Python?\n",
    "\n",
    "- [x] Keywords are reserved words that are used to construct instructions.\n",
    "- [ ] Keywords are used to calculate mathematical operations.\n",
    "- [ ] Keywords are used to print messages like \"Hello World!\" to the screen.\n",
    "- [ ] Keywords are the words that we need to memorize to program in Python.\n",
    "\n",
    "<font color='green'>Correct: You got it! Using the reserved words provided by the language we can construct complex instructions that will make our scripts.</font>"
   ]
  },
  {
   "cell_type": "markdown",
   "id": "494c8ed0",
   "metadata": {},
   "source": [
    "### Question 3\n",
    "\n",
    "What does the print function do in Python?\n",
    "\n",
    "- [ ] The print function generates PDFs and sends it to the nearest printer.\n",
    "- [ ] The print function stores values provided by the user.\n",
    "- [x] The print function outputs messages to the screen\n",
    "- [ ] The print function calculates mathematical operations.\n",
    "\n",
    "<font color='green'>Correct: You nailed it! Using the print() we can generate output for the user of our programs.</font>"
   ]
  },
  {
   "cell_type": "markdown",
   "id": "bb591ef7",
   "metadata": {},
   "source": [
    "### Question 4\n",
    "\n",
    "Output a message that says \"Programming in Python is fun!\" to the screen."
   ]
  },
  {
   "cell_type": "code",
   "execution_count": 1,
   "id": "7a04a67b",
   "metadata": {},
   "outputs": [
    {
     "name": "stdout",
     "output_type": "stream",
     "text": [
      "Programming in Python is fun!\n"
     ]
    }
   ],
   "source": [
    "print (\"Programming in Python is fun!\")"
   ]
  },
  {
   "cell_type": "markdown",
   "id": "dfe89d41",
   "metadata": {},
   "source": [
    "<font color='green'>Correct: Great work! We're just starting but programming in Python\n",
    "can indeed be a lot of fun.</font>"
   ]
  },
  {
   "cell_type": "markdown",
   "id": "4f2719a8",
   "metadata": {},
   "source": [
    "### Question 5\n",
    "\n",
    "Replace the ___ placeholder and calculate the Golden ratio:\n",
    "\n",
    "Tip: to calculate the square root of a number x, you can use x**(1/2)."
   ]
  },
  {
   "cell_type": "code",
   "execution_count": 2,
   "id": "cb2ef3f5",
   "metadata": {},
   "outputs": [
    {
     "name": "stdout",
     "output_type": "stream",
     "text": [
      "1.618033988749895\n"
     ]
    }
   ],
   "source": [
    "ratio = (1+(5**0.5))/2\n",
    "print(ratio)"
   ]
  },
  {
   "cell_type": "markdown",
   "id": "71212ae9",
   "metadata": {},
   "source": [
    "<font color='green'>Correct: Awesome job! See how we can use Python to calculate complex\n",
    "values for us.</font>"
   ]
  }
 ],
 "metadata": {
  "kernelspec": {
   "display_name": "Python 3 (ipykernel)",
   "language": "python",
   "name": "python3"
  },
  "language_info": {
   "codemirror_mode": {
    "name": "ipython",
    "version": 3
   },
   "file_extension": ".py",
   "mimetype": "text/x-python",
   "name": "python",
   "nbconvert_exporter": "python",
   "pygments_lexer": "ipython3",
   "version": "3.9.6"
  }
 },
 "nbformat": 4,
 "nbformat_minor": 5
}
