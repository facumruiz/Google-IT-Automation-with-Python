{
 "cells": [
  {
   "cell_type": "markdown",
   "id": "17ed8fb1",
   "metadata": {},
   "source": [
    "# Week 1 - Part 1 \n",
    "## Practice Quiz: Introduction to Programming\n",
    "\n",
    "- Total points: 5\n",
    "- Grade: 100%"
   ]
  },
  {
   "cell_type": "markdown",
   "id": "931c96b7",
   "metadata": {},
   "source": [
    "### Question 1\n",
    "\n",
    "What’s a computer program?\n",
    "\n",
    "- [ ] A set of languages avaible in the computer\n",
    "- [ ] A process for getting duplicate values removed from a list\n",
    "- [x] A list of instructions that the computer has to follow to reach a goal\n",
    "- [ ] A file that gets copied to all machines in the network\n",
    "\n",
    "<font color='green'>Correct: You nailed it! At a basic level, a computer program is a recipe of instructions that tells your computer what to do</font>\n"
   ]
  },
  {
   "cell_type": "markdown",
   "id": "de388fb2",
   "metadata": {},
   "source": [
    "### Question 2\n",
    "\n",
    "What’s the syntax of a language?\n",
    "\n",
    "- [x] The rules of how to express things in that language\n",
    "- [ ] The subject of a sentence\n",
    "- [ ] The difference between one language and another\n",
    "- [ ] The meaning of the words\n",
    "\n",
    "<font color='green'>Correct: Right on! In a human language, syntax is the rules for how a sentence is constructed, and in a programming language, syntax is the rules for how each instruction is written.</font>"
   ]
  },
  {
   "cell_type": "markdown",
   "id": "eb5eb356",
   "metadata": {},
   "source": [
    "### Question 3\n",
    "\n",
    "What’s the difference between a program and a script?\n",
    "\n",
    "- [x] There’s not much difference, but scripts are usually simpler and shorter.\n",
    "- [ ] Scripts are only written in Python.\n",
    "- [ ] Scripts can only be used for simple tasks.\n",
    "- [ ] Programs are written by software engineers; scripts are written by system administrators.\n",
    "\n",
    "<font color='green'>Correct: You got it! The line between a program and a script is blurry; scripts usually have a shorter development cycle. This means that scripts are shorter, simpler, and can be written very quickly.</font>"
   ]
  },
  {
   "cell_type": "markdown",
   "id": "952d6392",
   "metadata": {},
   "source": [
    "### Question 4\n",
    "\n",
    "What’s the difference between a program and a script?\n",
    "\n",
    "- [x] Generating a sales report, split by region and product type\n",
    "\n",
    "<font color='green'>Correct: Excellent! Creating a report that presents stored data in specific ways is a tedious task that can be easily automated.</font>\n",
    "\n",
    "- [ ] Creating your own startup company\n",
    "- [ ] Helping a user who’s having network troubles\n",
    "- [x] Copying a file to all computers in a company\n",
    "\n",
    "<font color='green'>Correct: Nice work! A task like copying files to other computers is easily automated, and helps to reduce unnecessary manual work..</font>\n",
    "\n",
    "- [ ] Interviewing a candidate for a job \n",
    "- [x] Sending personalized emails to subscribers of your website\n",
    "\n",
    "<font color='green'>Correct: Great job! Sending out periodic emails is a time-consuming task that can be easily automated, and you won't have to worry about forgetting to do it on a regular basis.</font>\n",
    "\n",
    "- [ ] Investigating the root cause of a machine failing to boot"
   ]
  },
  {
   "cell_type": "markdown",
   "id": "4482c8b7",
   "metadata": {},
   "source": [
    "### Question 5\n",
    "\n",
    "What’s the difference between a program and a script?\n",
    "\n",
    "- [ ] The rules for how a programming instruction is written\n",
    "- [ ] The difference in number values in one instance of a script compared to another\n",
    "- [x] The meaning of coded statements\n",
    "- [ ] The end result of a programming instruction\n",
    "\n",
    "<font color='green'>Correct: Nice job! The intended meaning or effect of coded statements are referred to as semantics.  </font>"
   ]
  },
  {
   "cell_type": "code",
   "execution_count": null,
   "id": "8e3541a9",
   "metadata": {},
   "outputs": [],
   "source": []
  }
 ],
 "metadata": {
  "kernelspec": {
   "display_name": "Python 3 (ipykernel)",
   "language": "python",
   "name": "python3"
  },
  "language_info": {
   "codemirror_mode": {
    "name": "ipython",
    "version": 3
   },
   "file_extension": ".py",
   "mimetype": "text/x-python",
   "name": "python",
   "nbconvert_exporter": "python",
   "pygments_lexer": "ipython3",
   "version": "3.9.6"
  }
 },
 "nbformat": 4,
 "nbformat_minor": 5
}
