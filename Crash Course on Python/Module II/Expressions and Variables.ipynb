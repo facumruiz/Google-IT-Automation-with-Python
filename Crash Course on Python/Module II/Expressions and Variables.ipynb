{
 "cells": [
  {
   "cell_type": "markdown",
   "id": "179e4c4f",
   "metadata": {},
   "source": [
    "# Week 2 - Part 1\n",
    "\n",
    "## Practice Quiz: Expressions and Variables\n",
    "\n",
    "- Total points: 5\n",
    "- Grade: 100%"
   ]
  },
  {
   "cell_type": "markdown",
   "id": "09f4dd9a",
   "metadata": {},
   "source": [
    "### Question 1\n",
    "\n",
    "In this scenario, two friends are eating dinner at a restaurant. The bill comes in the amount of 47.28 dollars. The friends decide to split the bill evenly between them, after adding 15% tip for the service. Calculate the tip, the total amount to pay, and each friend's share, then output a message saying \"Each person needs to pay: \" followed by the resulting number."
   ]
  },
  {
   "cell_type": "code",
   "execution_count": 2,
   "id": "f7c9a8b7",
   "metadata": {},
   "outputs": [
    {
     "name": "stdout",
     "output_type": "stream",
     "text": [
      "Each person needs to pay: 27.186\n"
     ]
    }
   ],
   "source": [
    "bill = 47.28\n",
    "tip = bill / 100 * 15\n",
    "total = bill + tip\n",
    "share = total / 2\n",
    "print(\"Each person needs to pay: \" + str(share))"
   ]
  },
  {
   "cell_type": "markdown",
   "id": "f5582309",
   "metadata": {},
   "source": [
    "<font color='green'>Correct: Great work! You’ve given the computer correct instructions\n",
    "at each step, paying attention to every detail, and it paid\n",
    "off!</font>"
   ]
  },
  {
   "cell_type": "markdown",
   "id": "b7100fa6",
   "metadata": {},
   "source": [
    "### Question 2\n",
    "\n",
    "This code is supposed to take two numbers, divide one by another so that the result is equal to 1, and display the result on the screen. Unfortunately, there is an error in the code. Find the error and fix it, so that the output is correct."
   ]
  },
  {
   "cell_type": "code",
   "execution_count": 3,
   "id": "28d862d5",
   "metadata": {},
   "outputs": [
    {
     "name": "stdout",
     "output_type": "stream",
     "text": [
      "1\n"
     ]
    }
   ],
   "source": [
    "numerator = 10\n",
    "denominator = 10\n",
    "result = numerator / denominator\n",
    "print( int(result))"
   ]
  },
  {
   "cell_type": "markdown",
   "id": "f5272932",
   "metadata": {},
   "source": [
    "<font color='green'>Correct: You got it!. You caught the error and fixed it! Way to go!</font>"
   ]
  },
  {
   "cell_type": "markdown",
   "id": "5792a750",
   "metadata": {},
   "source": [
    "### Question 3\n",
    "\n",
    "Combine the variables to display the sentence \"How do you like Python so far?\" "
   ]
  },
  {
   "cell_type": "code",
   "execution_count": 5,
   "id": "36b91e90",
   "metadata": {},
   "outputs": [
    {
     "name": "stdout",
     "output_type": "stream",
     "text": [
      "How do you like Python so far?\n"
     ]
    }
   ],
   "source": [
    "word1 = \"How\"\n",
    "word2 = \"do\"\n",
    "word3 = \"you\"\n",
    "word4 = \"like\"\n",
    "word5 = \"Python\"\n",
    "word6 = \"so\"\n",
    "word7 = \"far?\"\n",
    "print(word1, word2, word3, word4, word5, word6, word7,)"
   ]
  },
  {
   "cell_type": "markdown",
   "id": "7b3df9f5",
   "metadata": {},
   "source": [
    "<font color='green'>Correct: Nice job! You caught the error and fixed it! Way to go!</font>"
   ]
  },
  {
   "cell_type": "markdown",
   "id": "2a6a9d95",
   "metadata": {},
   "source": [
    "### Question 4\n",
    "\n",
    "This code is supposed to display \"2 + 2 = 4\" on the screen, but there is an error. Find the error in the code and fix it, so that the output is correct."
   ]
  },
  {
   "cell_type": "code",
   "execution_count": 6,
   "id": "9881297c",
   "metadata": {},
   "outputs": [
    {
     "name": "stdout",
     "output_type": "stream",
     "text": [
      "2 + 2 = 4\n"
     ]
    }
   ],
   "source": [
    "print(str(\"2 + 2 = 4\"))"
   ]
  },
  {
   "cell_type": "markdown",
   "id": "56b5cc67",
   "metadata": {},
   "source": [
    "<font color='green'>Correct: Way to go! You noticed the missing conversion into string,\n",
    "and fixed it!</font>"
   ]
  },
  {
   "cell_type": "markdown",
   "id": "e5cbb958",
   "metadata": {},
   "source": [
    "### Question 5\n",
    "\n",
    "What do you call a combination of numbers, symbols, or other values that produce a result when evaluated?\n",
    "\n",
    "- [ ] An explicit conversion\n",
    "- [x] An expression\n",
    "- [ ] A variable\n",
    "- [ ] An implicit conversion"
   ]
  },
  {
   "cell_type": "markdown",
   "id": "526eaeaf",
   "metadata": {},
   "source": [
    "<font color='green'>Correct: Right on! An expression is a combination of values, variables, operators, and calls to functions.</font>"
   ]
  }
 ],
 "metadata": {
  "kernelspec": {
   "display_name": "Python 3 (ipykernel)",
   "language": "python",
   "name": "python3"
  },
  "language_info": {
   "codemirror_mode": {
    "name": "ipython",
    "version": 3
   },
   "file_extension": ".py",
   "mimetype": "text/x-python",
   "name": "python",
   "nbconvert_exporter": "python",
   "pygments_lexer": "ipython3",
   "version": "3.9.6"
  }
 },
 "nbformat": 4,
 "nbformat_minor": 5
}
