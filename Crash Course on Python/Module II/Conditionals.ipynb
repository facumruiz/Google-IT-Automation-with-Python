{
 "cells": [
  {
   "cell_type": "markdown",
   "id": "a583a461",
   "metadata": {},
   "source": [
    "# Week 2 - Part 3\n",
    "\n",
    "## Practice Quiz: Conditionals\n",
    "\n",
    "- Total points: 5\n",
    "- Grade: 100%"
   ]
  },
  {
   "cell_type": "markdown",
   "id": "6ff726dd",
   "metadata": {},
   "source": [
    "### Question 1\n",
    "\n",
    "What's the value of this Python expression: (2**2) == 4?\n",
    "\n",
    "- [ ] 4\n",
    "- [ ] 2**2\n",
    "- [x] True\n",
    "- [ ] False"
   ]
  },
  {
   "cell_type": "markdown",
   "id": "2b85963d",
   "metadata": {},
   "source": [
    "<font color='green'>Correct: You nailed it! The conditional operator == checks if two values are equal. The result of that operation is a boolean: either True or False.</font>"
   ]
  },
  {
   "cell_type": "markdown",
   "id": "306b67ba",
   "metadata": {},
   "source": [
    "### Question 2\n",
    "\n",
    "Complete the script by filling in the missing parts. The function receives a name, then returns a greeting based on whether or not that name is \"Taylor\"."
   ]
  },
  {
   "cell_type": "code",
   "execution_count": 1,
   "id": "3b039ea0",
   "metadata": {},
   "outputs": [
    {
     "name": "stdout",
     "output_type": "stream",
     "text": [
      "Welcome back Taylor!\n",
      "Hello there, John\n"
     ]
    }
   ],
   "source": [
    "def greeting(name):\n",
    "  if name == \"Taylor\":\n",
    "    return \"Welcome back Taylor!\"\n",
    "  else:\n",
    "    return \"Hello there, \" + name\n",
    "\n",
    "print(greeting(\"Taylor\"))\n",
    "print(greeting(\"John\"))"
   ]
  },
  {
   "cell_type": "markdown",
   "id": "4cd5deb7",
   "metadata": {},
   "source": [
    "<font color='green'>Correct: Great work! You're getting the hang of conditionals in Python.</font>"
   ]
  },
  {
   "cell_type": "markdown",
   "id": "3dd7dc8f",
   "metadata": {},
   "source": [
    "### Question 3\n",
    "\n",
    "What’s the output of this code if number equals 10?"
   ]
  },
  {
   "cell_type": "code",
   "execution_count": 5,
   "id": "f284f449",
   "metadata": {},
   "outputs": [
    {
     "name": "stdout",
     "output_type": "stream",
     "text": [
      "2\n"
     ]
    }
   ],
   "source": [
    "number = 10\n",
    "\n",
    "if number > 11: \n",
    "  print(0)\n",
    "elif number != 10:\n",
    "  print(1)\n",
    "elif number >= 20 or number < 12:\n",
    "  print(2)\n",
    "else:\n",
    "  print(3)"
   ]
  },
  {
   "cell_type": "markdown",
   "id": "688d2284",
   "metadata": {},
   "source": [
    "<font color='green'>Correct: Right on! Our number is 10, which is smaller than 12, so it matches that condition.</font>"
   ]
  },
  {
   "cell_type": "markdown",
   "id": "b9e950e9",
   "metadata": {},
   "source": [
    "### Question 4\n",
    "\n",
    "Is \"A dog\" smaller or larger than \"A mouse\"? Is 9999+8888 smaller or larger than 100*100? Replace the plus sign in the following code to let Python check it for you and then answer. "
   ]
  },
  {
   "cell_type": "code",
   "execution_count": 6,
   "id": "e9d1c580",
   "metadata": {},
   "outputs": [
    {
     "name": "stdout",
     "output_type": "stream",
     "text": [
      "False\n",
      "True\n"
     ]
    }
   ],
   "source": [
    "print(\"A dog\" > \"A mouse\")\n",
    "print(9999+8888 > 100*100)"
   ]
  },
  {
   "cell_type": "markdown",
   "id": "c76ba674",
   "metadata": {},
   "source": [
    "### Question 5\n",
    "\n",
    "If a filesystem has a block size of 4096 bytes, this means that a file comprised of only one byte will still use 4096 bytes of storage. A file made up of 4097 bytes will use 4096*2=8192 bytes of storage. Knowing this, can you fill in the gaps in the calculate_storage function below, which calculates the total number of bytes needed to store a file of a given size?"
   ]
  },
  {
   "cell_type": "code",
   "execution_count": 7,
   "id": "5722e31c",
   "metadata": {},
   "outputs": [
    {
     "name": "stdout",
     "output_type": "stream",
     "text": [
      "4096\n",
      "4096\n",
      "8192\n",
      "8192\n"
     ]
    }
   ],
   "source": [
    "def calculate_storage(filesize):\n",
    "    block_size = 4096\n",
    "    # Use floor division to calculate how many blocks are fully occupied\n",
    "    full_blocks = filesize//block_size\n",
    "    # Use the modulo operator to check whether there's any remainder\n",
    "    partial_block_remainder = block_size%filesize\n",
    "    # Depending on whether there's a remainder or not, return\n",
    "    # the total number of bytes required to allocate enough blocks\n",
    "    # to store your data.\n",
    "    if partial_block_remainder > 0:\n",
    "        return 8192\n",
    "\n",
    "    else:\n",
    "        return 4096\n",
    "\n",
    "    return full_blocks\n",
    "\n",
    "print(calculate_storage(1))    # Should be 4096\n",
    "print(calculate_storage(4096)) # Should be 4096\n",
    "print(calculate_storage(4097)) # Should be 8192\n",
    "print(calculate_storage(6000)) # Should be 8192"
   ]
  },
  {
   "cell_type": "markdown",
   "id": "fcab5a1b",
   "metadata": {},
   "source": [
    "<font color='green'>Correct: Awesome! Those were some complicated calculations that you\n",
    "needed to do, but you did it!</font>"
   ]
  },
  {
   "cell_type": "code",
   "execution_count": null,
   "id": "7a148d59",
   "metadata": {},
   "outputs": [],
   "source": []
  }
 ],
 "metadata": {
  "kernelspec": {
   "display_name": "Python 3 (ipykernel)",
   "language": "python",
   "name": "python3"
  },
  "language_info": {
   "codemirror_mode": {
    "name": "ipython",
    "version": 3
   },
   "file_extension": ".py",
   "mimetype": "text/x-python",
   "name": "python",
   "nbconvert_exporter": "python",
   "pygments_lexer": "ipython3",
   "version": "3.9.6"
  }
 },
 "nbformat": 4,
 "nbformat_minor": 5
}
