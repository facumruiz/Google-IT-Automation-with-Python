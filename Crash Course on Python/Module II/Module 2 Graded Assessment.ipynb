{
 "cells": [
  {
   "cell_type": "markdown",
   "id": "a1dda86c",
   "metadata": {},
   "source": [
    "# Week 2 - Part 4\n",
    "\n",
    "## Module 2 Graded Assessment\n",
    "\n",
    "- Total points: 5\n",
    "- Grade: 100%"
   ]
  },
  {
   "cell_type": "markdown",
   "id": "b437cecc",
   "metadata": {},
   "source": [
    "### Question 1\n",
    "\n",
    "Complete the function by filling in the missing parts. The color_translator function receives the name of a color, then prints its hexadecimal value. Currently, it only supports the three additive primary colors (red, green, blue), so it returns \"unknown\" for all other colors."
   ]
  },
  {
   "cell_type": "code",
   "execution_count": 1,
   "id": "3dcea8d1",
   "metadata": {},
   "outputs": [
    {
     "name": "stdout",
     "output_type": "stream",
     "text": [
      "#0000ff\n",
      "unknown\n",
      "#ff0000\n",
      "unknown\n",
      "#00ff00\n",
      "unknown\n"
     ]
    }
   ],
   "source": [
    "def color_translator(color):\n",
    "\tif color == \"red\":\n",
    "\t\thex_color = \"#ff0000\"\n",
    "\telif color == \"green\":\n",
    "\t\thex_color = \"#00ff00\"\n",
    "\telif color == \"blue\":\n",
    "\t\thex_color = \"#0000ff\"\n",
    "\telse:\n",
    "\t\thex_color = \"unknown\"\n",
    "\treturn hex_color\n",
    "\n",
    "print(color_translator(\"blue\")) # Should be #0000ff\n",
    "print(color_translator(\"yellow\")) # Should be unknown\n",
    "print(color_translator(\"red\")) # Should be #ff0000\n",
    "print(color_translator(\"black\")) # Should be unknown\n",
    "print(color_translator(\"green\")) # Should be #00ff00\n",
    "print(color_translator(\"\")) # Should be unknown"
   ]
  },
  {
   "cell_type": "markdown",
   "id": "691e9917",
   "metadata": {},
   "source": [
    "<font color='green'>Correct: Well done! You're breezing through the if-else clauses!</font>"
   ]
  },
  {
   "cell_type": "markdown",
   "id": "28073fa2",
   "metadata": {},
   "source": [
    "### Question 2\n",
    "\n",
    "What's the value of this Python expression: \"big\" > \"small\"\n",
    "\n",
    "- [ ] True\n",
    "- [x] False\n",
    "- [ ] big\n",
    "- [ ] small"
   ]
  },
  {
   "cell_type": "markdown",
   "id": "a9f10b55",
   "metadata": {},
   "source": [
    "<font color='green'>Correct: You nailed it! The conditional operator > checks if two values are equal. The result of that operation is a boolean: either True or False. Alphabetically, \"big\" is less than \"small\".</font>"
   ]
  },
  {
   "cell_type": "markdown",
   "id": "de6217f1",
   "metadata": {},
   "source": [
    "### Question 3\n",
    "\n",
    "What is the elif keyword used for?\n",
    "\n",
    "- [ ] To mark the end of the if statement\n",
    "- [x] To handle more than two comparison cases\n",
    "- [ ] To replace the \"or\" clause in the if statement\n",
    "- [ ] Nothing - it's a misspelling of the else-if keyword"
   ]
  },
  {
   "cell_type": "markdown",
   "id": "d79d81d3",
   "metadata": {},
   "source": [
    "<font color='green'>Correct: You got it! The elif keyword is used in place of multiple embedded if clauses, when a single if/else structure is not enough.</font>"
   ]
  },
  {
   "cell_type": "markdown",
   "id": "ba5d089f",
   "metadata": {},
   "source": [
    "### Question 5\n",
    "\n",
    "Students in a class receive their grades as Pass/Fail. Scores of 60 or more (out of 100) mean that the grade is \"Pass\". For lower scores, the grade is \"Fail\". In addition, scores above 95 (not included) are graded as \"Top Score\". Fill in this function so that it returns the proper grade."
   ]
  },
  {
   "cell_type": "code",
   "execution_count": 2,
   "id": "c04a5776",
   "metadata": {},
   "outputs": [
    {
     "name": "stdout",
     "output_type": "stream",
     "text": [
      "Pass\n",
      "Fail\n",
      "Pass\n",
      "Pass\n",
      "Top Score\n",
      "Fail\n"
     ]
    }
   ],
   "source": [
    "def exam_grade(score):\n",
    "\tif score > 95:\n",
    "\t\tgrade = \"Top Score\"\n",
    "\telif score >= 60:\n",
    "\t\tgrade = \"Pass\"\n",
    "\telse:\n",
    "\t\tgrade = \"Fail\"\n",
    "\treturn grade\n",
    "\n",
    "print(exam_grade(65)) # Should be Pass\n",
    "print(exam_grade(55)) # Should be Fail\n",
    "print(exam_grade(60)) # Should be Pass\n",
    "print(exam_grade(95)) # Should be Pass\n",
    "print(exam_grade(100)) # Should be Top Score\n",
    "print(exam_grade(0)) # Should be Fail"
   ]
  },
  {
   "cell_type": "markdown",
   "id": "277b365f",
   "metadata": {},
   "source": [
    "<font color='green'>Correct: Excellent! \"%\" is the modulo operator, which returns the remainder of the integer division between two numbers. 11 divided by 5 equals 2 with remainder of 1.</font>"
   ]
  },
  {
   "cell_type": "markdown",
   "id": "31e1d3de",
   "metadata": {},
   "source": [
    "### Question 6\n",
    "\n",
    "Students in a class receive their grades as Pass/Fail. Scores of 60 or more (out of 100) mean that the grade is \"Pass\". For lower scores, the grade is \"Fail\". In addition, scores above 95 (not included) are graded as \"Top Score\". Fill in this function so that it returns the proper grade."
   ]
  },
  {
   "cell_type": "code",
   "execution_count": 3,
   "id": "44e429f0",
   "metadata": {},
   "outputs": [
    {
     "name": "stdout",
     "output_type": "stream",
     "text": [
      "Name: Hemingway, Ernest\n",
      "Name: Madonna\n",
      "Name: Voltaire\n",
      "\n"
     ]
    }
   ],
   "source": [
    "def format_name(first_name, last_name):\n",
    "\t# code goes here\n",
    "\tstring = 'Name: ' + ', '.join([name for name in [last_name, first_name] if name]) if any([last_name, first_name]) else ''\n",
    "\treturn string \n",
    "\n",
    "print(format_name(\"Ernest\", \"Hemingway\"))\n",
    "# Should return the string \"Name: Hemingway, Ernest\"\n",
    "\n",
    "print(format_name(\"\", \"Madonna\"))\n",
    "# Should return the string \"Name: Madonna\"\n",
    "\n",
    "print(format_name(\"Voltaire\", \"\"))\n",
    "# Should return the string \"Name: Voltaire\"\n",
    "\n",
    "print(format_name(\"\", \"\"))\n",
    "# Should return an empty string"
   ]
  },
  {
   "cell_type": "markdown",
   "id": "27e45298",
   "metadata": {},
   "source": [
    "<font color='green'>Correct: Awesome! You're getting the hang of the multiple and\n",
    "embedded \"if\" clauses!</font>"
   ]
  },
  {
   "cell_type": "markdown",
   "id": "b767b5a4",
   "metadata": {},
   "source": [
    "### Question 7\n",
    "\n",
    "The longest_word function is used to compare 3 words. It should return the word with the most number of characters (and the first in the list when they have the same length). Fill in the blank to make this happen."
   ]
  },
  {
   "cell_type": "code",
   "execution_count": 4,
   "id": "54e1f387",
   "metadata": {},
   "outputs": [
    {
     "name": "stdout",
     "output_type": "stream",
     "text": [
      "chair\n",
      "beyond\n",
      "notebook\n"
     ]
    }
   ],
   "source": [
    "def longest_word(word1, word2, word3):\n",
    "\tif len(word1) >= len(word2) and len(word1) >= len(word3):\n",
    "\t\tword = word1\n",
    "\telif len(word2) >= len(word1) and len(word2) >= len(word3):\n",
    "\t\tword = word2\n",
    "\telse:\n",
    "\t\tword = word3\n",
    "\treturn(word)\n",
    "\n",
    "print(longest_word(\"chair\", \"couch\", \"table\"))\n",
    "print(longest_word(\"bed\", \"bath\", \"beyond\"))\n",
    "print(longest_word(\"laptop\", \"notebook\", \"desktop\"))"
   ]
  },
  {
   "cell_type": "markdown",
   "id": "f745d850",
   "metadata": {},
   "source": [
    "<font color='green'>Correct: You got it! You've figured out how to use an elif clause,\n",
    "well done!</font>"
   ]
  },
  {
   "cell_type": "markdown",
   "id": "9af1b263",
   "metadata": {},
   "source": [
    "### Question 8\n",
    "\n",
    "What’s the output of this code?"
   ]
  },
  {
   "cell_type": "code",
   "execution_count": 5,
   "id": "a848d31a",
   "metadata": {},
   "outputs": [
    {
     "name": "stdout",
     "output_type": "stream",
     "text": [
      "10\n"
     ]
    }
   ],
   "source": [
    "def sum(x, y):\n",
    "\t\treturn(x+y)\n",
    "print(sum(sum(1,2), sum(3,4)))"
   ]
  },
  {
   "cell_type": "markdown",
   "id": "2c996dc1",
   "metadata": {},
   "source": [
    "<font color='green'>Correct: You nailed it! We’re calling the sum function 3 times: returning 3, then 7, then adding up 3 plus 7 for the total of 10.</font>"
   ]
  },
  {
   "cell_type": "markdown",
   "id": "d782b089",
   "metadata": {},
   "source": [
    "### Question 9\n",
    "\n",
    "What's the value of this Python expression?\n",
    "\n",
    "((10 >= 5*2) and (10 <= 5*2))\n",
    "\n",
    "\n",
    "- [ ] True\n",
    "- [x] False\n",
    "- [ ] 10\n",
    "- [ ] 5*2"
   ]
  },
  {
   "cell_type": "markdown",
   "id": "277d3d15",
   "metadata": {},
   "source": [
    "### Question 10\n",
    "\n",
    "The fractional_part function divides the numerator by the denominator, and returns just the fractional part (a number between 0 and 1). Complete the body of the function so that it returns the right number.\n",
    "Note: Since division by 0 produces an error, if the denominator is 0, the function should return 0 instead of attempting the division."
   ]
  },
  {
   "cell_type": "code",
   "execution_count": 6,
   "id": "784fd0a4",
   "metadata": {},
   "outputs": [
    {
     "name": "stdout",
     "output_type": "stream",
     "text": [
      "0.0\n",
      "0.25\n",
      "0.6666666666666667\n",
      "0.5\n",
      "0\n",
      "0.0\n"
     ]
    }
   ],
   "source": [
    "def fractional_part(numerator, denominator):\n",
    "\t# Operate with numerator and denominator to \n",
    "# keep just the fractional part of the quotient\n",
    "\treturn (numerator / denominator) % 1 if denominator else 0\n",
    "\n",
    "print(fractional_part(5, 5)) # Should be 0\n",
    "print(fractional_part(5, 4)) # Should be 0.25\n",
    "print(fractional_part(5, 3)) # Should be 0.66...\n",
    "print(fractional_part(5, 2)) # Should be 0.5\n",
    "print(fractional_part(5, 0)) # Should be 0\n",
    "print(fractional_part(0, 5)) # Should be 0"
   ]
  },
  {
   "cell_type": "markdown",
   "id": "607e544c",
   "metadata": {},
   "source": [
    "<font color='green'>Correct: Well done! You're handling the math operations, as well as\n",
    "division by 0, perfectly!</font>"
   ]
  },
  {
   "cell_type": "code",
   "execution_count": null,
   "id": "be7cd908",
   "metadata": {},
   "outputs": [],
   "source": []
  }
 ],
 "metadata": {
  "kernelspec": {
   "display_name": "Python 3 (ipykernel)",
   "language": "python",
   "name": "python3"
  },
  "language_info": {
   "codemirror_mode": {
    "name": "ipython",
    "version": 3
   },
   "file_extension": ".py",
   "mimetype": "text/x-python",
   "name": "python",
   "nbconvert_exporter": "python",
   "pygments_lexer": "ipython3",
   "version": "3.9.6"
  }
 },
 "nbformat": 4,
 "nbformat_minor": 5
}
