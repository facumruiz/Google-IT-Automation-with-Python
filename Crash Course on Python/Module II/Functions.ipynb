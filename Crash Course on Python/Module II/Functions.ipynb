{
 "cells": [
  {
   "cell_type": "markdown",
   "id": "c16c97cc",
   "metadata": {},
   "source": [
    "# Week 2 - Part 2\n",
    "\n",
    "## Practice Quiz: Functions\n",
    "\n",
    "- Total points: 5\n",
    "- Grade: 100%"
   ]
  },
  {
   "cell_type": "markdown",
   "id": "b3cb72da",
   "metadata": {},
   "source": [
    "### Question 1\n",
    "\n",
    "This function converts miles to kilometers (km).\n",
    "\n",
    "1. Complete the function to return the result of the conversion2 \n",
    "2. Call the function to convert the trip distance from miles to kilometers\n",
    "3. Fill in the blank to print the result of the conversion\n",
    "4. Calculate the round-trip in kilometers by doubling the result, and fill in the blank to print the result"
   ]
  },
  {
   "cell_type": "code",
   "execution_count": 3,
   "id": "426822e5",
   "metadata": {},
   "outputs": [
    {
     "name": "stdout",
     "output_type": "stream",
     "text": [
      "The distance in kilometers is 88.0\n",
      "The round-trip in kilometers is 176.0\n"
     ]
    }
   ],
   "source": [
    "# 1) Complete the function to return the result of the conversion\n",
    "def convert_distance(miles):\n",
    "\tkm = miles * 1.6  # approximately 1.6 km in 1 mile\n",
    "\treturn km\n",
    "\n",
    "my_trip_miles = 55\n",
    "\n",
    "# 2) Convert my_trip_miles to kilometers by calling the function above\n",
    "my_trip_km = convert_distance(my_trip_miles)\n",
    "\n",
    "# 3) Fill in the blank to print the result of the conversion\n",
    "print(\"The distance in kilometers is \" + str(my_trip_km))\n",
    "\n",
    "# 4) Calculate the round-trip in kilometers by doubling the result,\n",
    "#    and fill in the blank to print the result\n",
    "print(\"The round-trip in kilometers is \" + str(2.0*my_trip_km))"
   ]
  },
  {
   "cell_type": "markdown",
   "id": "1bf2b20f",
   "metadata": {},
   "source": [
    "### Question 2\n",
    "\n",
    "This function compares two numbers and returns them in increasing order.\n",
    "\n",
    "1. Fill in the blanks, so the print statement displays the result of the function call in order.\n",
    "\n",
    "Hint: if a function returns multiple values, don't forget to store these values in multiple variables"
   ]
  },
  {
   "cell_type": "code",
   "execution_count": 4,
   "id": "7ed85d30",
   "metadata": {},
   "outputs": [
    {
     "name": "stdout",
     "output_type": "stream",
     "text": [
      "99 100\n"
     ]
    }
   ],
   "source": [
    "# This function compares two numbers and returns them\n",
    "# in increasing order.\n",
    "def order_numbers(number1, number2):\n",
    "\tif number2 > number1:\n",
    "\t\treturn number1, number2\n",
    "\telse:\n",
    "\t\treturn number2, number1\n",
    "\n",
    "# 1) Fill in the blanks so the print statement displays the result\n",
    "#    of the function call\n",
    "smaller, bigger = order_numbers(100, 99)\n",
    "print(smaller, bigger)"
   ]
  },
  {
   "cell_type": "markdown",
   "id": "a3080712",
   "metadata": {},
   "source": [
    "<font color='green'>Correct: Nice! You remembered how to accept multiple return values\n",
    "from a function. You’re ready for the next lesson!</font>"
   ]
  },
  {
   "cell_type": "markdown",
   "id": "1749955f",
   "metadata": {},
   "source": [
    "### Question 3\n",
    "\n",
    "What are the values passed into functions as input called?\n",
    "\n",
    "- [ ] Variables\n",
    "- [ ] Return values\n",
    "- [x] Parameters\n",
    "- [ ] Data types"
   ]
  },
  {
   "cell_type": "markdown",
   "id": "bf66123e",
   "metadata": {},
   "source": [
    "<font color='green'>Correct: Nice job! A parameter, also sometimes called an argument, is a value passed into a function for use within the function.</font>"
   ]
  },
  {
   "cell_type": "markdown",
   "id": "c5b3f9ce",
   "metadata": {},
   "source": [
    "### Question 4\n",
    "\n",
    "Let's revisit our lucky_number function. We want to change it, so that instead of printing the message, it returns the message. This way, the calling line can print the message, or do something else with it if needed. Fill in the blanks to complete the code to make it work."
   ]
  },
  {
   "cell_type": "code",
   "execution_count": 5,
   "id": "21df1ce7",
   "metadata": {},
   "outputs": [
    {
     "name": "stdout",
     "output_type": "stream",
     "text": [
      "Hello Kay. Your lucky number is 27\n",
      "Hello Cameron. Your lucky number is 63\n"
     ]
    }
   ],
   "source": [
    "def lucky_number(name):\n",
    "  number = len(name) * 9\n",
    "  message = \"Hello \" + name + \". Your lucky number is \" + str(number)\n",
    "  print(message)\n",
    "\t    \n",
    "lucky_number(\"Kay\")\n",
    "lucky_number(\"Cameron\")"
   ]
  },
  {
   "cell_type": "markdown",
   "id": "2b0280f2",
   "metadata": {},
   "source": [
    "<font color='green'>Correct: Way to go! The function now returns the message, for the\n",
    "calling line to use it in any way it wants to.</font>"
   ]
  },
  {
   "cell_type": "markdown",
   "id": "e1c2a6de",
   "metadata": {},
   "source": [
    "### Question 5\n",
    "\n",
    "What is the purpose of the def keyword?\n",
    "\n",
    "- [x] Used to define a new function\n",
    "- [ ] Used to define a return value\n",
    "- [ ] Used to define a new variable\n",
    "- [ ] Used to define a new parameter"
   ]
  },
  {
   "cell_type": "markdown",
   "id": "36ac9644",
   "metadata": {},
   "source": [
    "<font color='green'>Correct: Awesome! When defining a new function, we must use the def keyword followed by the function name and properly indented body.</font>"
   ]
  }
 ],
 "metadata": {
  "kernelspec": {
   "display_name": "Python 3 (ipykernel)",
   "language": "python",
   "name": "python3"
  },
  "language_info": {
   "codemirror_mode": {
    "name": "ipython",
    "version": 3
   },
   "file_extension": ".py",
   "mimetype": "text/x-python",
   "name": "python",
   "nbconvert_exporter": "python",
   "pygments_lexer": "ipython3",
   "version": "3.9.6"
  }
 },
 "nbformat": 4,
 "nbformat_minor": 5
}
